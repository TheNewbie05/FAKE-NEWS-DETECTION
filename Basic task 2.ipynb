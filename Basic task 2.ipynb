{
 "cells": [
  {
   "cell_type": "code",
   "execution_count": 1,
   "metadata": {},
   "outputs": [],
   "source": [
    "import pandas as pd\n",
    "import numpy as np\n",
    "from sklearn.feature_extraction.text import TfidfVectorizer\n",
    "from sklearn.model_selection import train_test_split\n",
    "from sklearn.linear_model import LogisticRegression\n",
    "from sklearn.metrics import accuracy_score, classification_report\n",
    "import nltk\n",
    "from nltk.corpus import stopwords\n",
    "from nltk.tokenize import word_tokenize\n",
    "import string\n",
    " \n",
    "# Download NLTK stopwords\n",
    "#nltk.download('stopwords')\n",
    "#nltk.download('punkt')\n",
    " \n",
    "# Load your train, test, and validation datasets\n",
    "# Replace 'train_data.csv', 'test_data.csv', 'validation_data.csv' with your dataset filenames\n",
    "train_data = pd.read_csv(r'D:\\Int Project\\BASIC\\Fake News basic\\Fake_News_Detection-master\\train.csv')\n",
    "test_data = pd.read_csv(r'D:\\Int Project\\BASIC\\Fake News basic\\Fake_News_Detection-master\\train.csv')\n",
    "validation_data = pd.read_csv(r'D:\\Int Project\\BASIC\\Fake News basic\\Fake_News_Detection-master\\train.csv')\n",
    " \n",
    "# Concatenate all datasets into one\n",
    "merged_data = pd.concat([train_data, test_data, validation_data], ignore_index=True)\n",
    " \n"
   ]
  },
  {
   "cell_type": "code",
   "execution_count": 2,
   "metadata": {},
   "outputs": [
    {
     "data": {
      "text/html": [
       "<div>\n",
       "<style scoped>\n",
       "    .dataframe tbody tr th:only-of-type {\n",
       "        vertical-align: middle;\n",
       "    }\n",
       "\n",
       "    .dataframe tbody tr th {\n",
       "        vertical-align: top;\n",
       "    }\n",
       "\n",
       "    .dataframe thead th {\n",
       "        text-align: right;\n",
       "    }\n",
       "</style>\n",
       "<table border=\"1\" class=\"dataframe\">\n",
       "  <thead>\n",
       "    <tr style=\"text-align: right;\">\n",
       "      <th></th>\n",
       "      <th>Statement</th>\n",
       "      <th>Label</th>\n",
       "    </tr>\n",
       "  </thead>\n",
       "  <tbody>\n",
       "    <tr>\n",
       "      <th>0</th>\n",
       "      <td>Says the Annies List political group supports ...</td>\n",
       "      <td>False</td>\n",
       "    </tr>\n",
       "    <tr>\n",
       "      <th>1</th>\n",
       "      <td>When did the decline of coal start? It started...</td>\n",
       "      <td>True</td>\n",
       "    </tr>\n",
       "    <tr>\n",
       "      <th>2</th>\n",
       "      <td>Hillary Clinton agrees with John McCain \"by vo...</td>\n",
       "      <td>True</td>\n",
       "    </tr>\n",
       "    <tr>\n",
       "      <th>3</th>\n",
       "      <td>Health care reform legislation is likely to ma...</td>\n",
       "      <td>False</td>\n",
       "    </tr>\n",
       "    <tr>\n",
       "      <th>4</th>\n",
       "      <td>The economic turnaround started at the end of ...</td>\n",
       "      <td>True</td>\n",
       "    </tr>\n",
       "  </tbody>\n",
       "</table>\n",
       "</div>"
      ],
      "text/plain": [
       "                                           Statement  Label\n",
       "0  Says the Annies List political group supports ...  False\n",
       "1  When did the decline of coal start? It started...   True\n",
       "2  Hillary Clinton agrees with John McCain \"by vo...   True\n",
       "3  Health care reform legislation is likely to ma...  False\n",
       "4  The economic turnaround started at the end of ...   True"
      ]
     },
     "execution_count": 2,
     "metadata": {},
     "output_type": "execute_result"
    }
   ],
   "source": [
    "merged_data.head()"
   ]
  },
  {
   "cell_type": "markdown",
   "metadata": {},
   "source": [
    "TF -IDF MATRIX"
   ]
  },
  {
   "cell_type": "code",
   "execution_count": 3,
   "metadata": {},
   "outputs": [
    {
     "name": "stdout",
     "output_type": "stream",
     "text": [
      "TF-IDF Matrix:\n",
      "[[0. 0. 0. ... 0. 0. 0.]\n",
      " [0. 0. 0. ... 0. 0. 0.]\n",
      " [0. 0. 0. ... 0. 0. 0.]\n",
      " ...\n",
      " [0. 0. 0. ... 0. 0. 0.]\n",
      " [0. 0. 0. ... 0. 0. 0.]\n",
      " [0. 0. 0. ... 0. 0. 0.]]\n",
      "Labels:\n",
      "[False  True  True ...  True False False]\n"
     ]
    }
   ],
   "source": [
    "def preprocess_text(text):\n",
    "    # Convert text to lowercase\n",
    "    text = text.lower()\n",
    "    \n",
    "    # Remove punctuation\n",
    "    text = text.translate(str.maketrans('', '', string.punctuation))\n",
    "    \n",
    "    # Tokenize the text\n",
    "    tokens = word_tokenize(text)\n",
    "    \n",
    "    # Remove stopwords\n",
    "    stop_words = set(stopwords.words('english'))\n",
    "    filtered_tokens = [word for word in tokens if word not in stop_words]\n",
    "    \n",
    "    # Join tokens back into a single string\n",
    "    processed_text = ' '.join(filtered_tokens)\n",
    "    return processed_text\n",
    " \n",
    "# Apply preprocessing to the merged dataset\n",
    "merged_data['processed_text'] = merged_data['Statement'].apply(preprocess_text)\n",
    " \n",
    "# Split the merged data into features and labels\n",
    "X = merged_data['processed_text']\n",
    "y = merged_data['Label']\n",
    " \n",
    "# Convert text data to numerical TF-IDF representation\n",
    "tfidf_vectorizer = TfidfVectorizer(max_features=5000)  # You can adjust max_features as needed\n",
    "X_tfidf = tfidf_vectorizer.fit_transform(X)\n",
    " \n",
    "print(\"TF-IDF Matrix:\")\n",
    "print(X_tfidf.toarray())\n",
    " \n",
    "# Print labels\n",
    "print(\"Labels:\")\n",
    "print(y.to_numpy())"
   ]
  },
  {
   "cell_type": "code",
   "execution_count": 4,
   "metadata": {},
   "outputs": [
    {
     "data": {
      "image/png": "[encoded data removed]",
      "text/plain": [
       "<Figure size 640x480 with 1 Axes>"
      ]
     },
     "metadata": {},
     "output_type": "display_data"
    }
   ],
   "source": [
    "import seaborn as sns\n",
    "import matplotlib.pyplot as plt\n",
    "sns.countplot(x='Label', data=train_data)\n",
    "plt.title('Class Distribution in Train Dataset')\n",
    "plt.show()"
   ]
  },
  {
   "cell_type": "markdown",
   "metadata": {},
   "source": [
    "CONFUSION MATRIX\n"
   ]
  },
  {
   "cell_type": "code",
   "execution_count": 8,
   "metadata": {},
   "outputs": [
    {
     "name": "stdout",
     "output_type": "stream",
     "text": [
      "Validation Accuracy: 0.76201171875\n",
      "Test Accuracy: 0.76201171875\n",
      "Confusion Matrix:\n",
      "[[2818 1670]\n",
      " [ 767 4985]]\n",
      "Precision: 0.749060856498873\n",
      "Recall: 0.8666550764951322\n"
     ]
    }
   ],
   "source": [
    "from sklearn.metrics import confusion_matrix, precision_score, recall_score\n",
    " \n",
    "# Split the TF-IDF matrix back into train, test, and validation parts\n",
    "X_train_tfidf = X_tfidf[:len(train_data)]\n",
    "X_test_tfidf = X_tfidf[len(train_data):len(train_data) + len(test_data)]\n",
    "X_val_tfidf = X_tfidf[len(train_data) + len(test_data):]\n",
    " \n",
    "# Split the labels back into train, test, and validation parts\n",
    "y_train = y[:len(train_data)]\n",
    "y_test = y[len(train_data):len(train_data) + len(test_data)]\n",
    "y_val = y[len(train_data) + len(test_data):]\n",
    " \n",
    "# Initialize and train the model (Logistic Regression in this case)\n",
    "model = LogisticRegression(max_iter=1000)\n",
    "model.fit(X_train_tfidf, y_train)\n",
    " \n",
    "# Validate the model\n",
    "val_predictions = model.predict(X_val_tfidf)\n",
    "val_accuracy = accuracy_score(y_val, val_predictions)\n",
    "print(f\"Validation Accuracy: {val_accuracy}\")\n",
    " \n",
    "# Test the model\n",
    "test_predictions = model.predict(X_test_tfidf)\n",
    "test_accuracy = accuracy_score(y_test, test_predictions)\n",
    "print(f\"Test Accuracy: {test_accuracy}\")\n",
    " \n",
    "# Confusion Matrix\n",
    "print(\"Confusion Matrix:\")\n",
    "conf = confusion_matrix(y_test, test_predictions)\n",
    "print(conf)\n",
    " \n",
    "# Precision and Recall\n",
    "precision = precision_score(y_test, test_predictions, average='binary')\n",
    "recall = recall_score(y_test, test_predictions, average='binary')\n",
    "print(f\"Precision: {precision}\")\n",
    "print(f\"Recall: {recall}\")"
   ]
  },
  {
   "cell_type": "code",
   "execution_count": 9,
   "metadata": {},
   "outputs": [
    {
     "data": {
      "image/png": "[encoded data removed]",
      "text/plain": [
       "<Figure size 1000x700 with 1 Axes>"
      ]
     },
     "metadata": {},
     "output_type": "display_data"
    }
   ],
   "source": [
    "plt.figure(figsize=(10, 7))\n",
    "sns.heatmap(conf, annot=True, fmt='2d', cmap='Blues' , cbar= False)\n",
    "plt.title('Confusion Matrix')\n",
    "plt.xlabel('Predicted Label')\n",
    "plt.ylabel('True Label')\n",
    "plt.show()"
   ]
  },
  {
   "cell_type": "code",
   "execution_count": null,
   "metadata": {},
   "outputs": [
    {
     "name": "stdout",
     "output_type": "stream",
     "text": [
      "Training Naive Bayes...\n",
      "Training SVM...\n",
      "Training Random Forest...\n",
      "Training Gradient Boosting...\n",
      "Gradient Boosting Validation Accuracy: 0.64599609375\n",
      "Gradient Boosting Test Accuracy: 0.64599609375\n",
      "Gradient Boosting Confusion Matrix:\n",
      "[[1213 3275]\n",
      " [ 350 5402]]\n",
      "Gradient Boosting Precision: 0.6225654027889823\n",
      "Gradient Boosting Recall: 0.9391515994436718\n",
      "\n",
      "\n"
     ]
    }
   ],
   "source": [
    "from sklearn.naive_bayes import MultinomialNB\n",
    "from sklearn.svm import SVC\n",
    "from sklearn.ensemble import RandomForestClassifier, GradientBoostingClassifier\n",
    " \n",
    "# Initialize different classifiers\n",
    "classifiers = {\n",
    "    \"Naive Bayes\": MultinomialNB(),\n",
    "    \"SVM\": SVC(),\n",
    "    \"Random Forest\": RandomForestClassifier(),\n",
    "    \"Gradient Boosting\": GradientBoostingClassifier()\n",
    "}\n",
    " \n",
    "# Loop through each classifier\n",
    "for clf_name, clf in classifiers.items():\n",
    "    print(f\"Training {clf_name}...\")\n",
    "    # Train the model\n",
    "clf.fit(X_train_tfidf, y_train)\n",
    "    \n",
    "    # Validation\n",
    "val_predictions = clf.predict(X_val_tfidf)\n",
    "val_accuracy = accuracy_score(y_val, val_predictions)\n",
    "print(f\"{clf_name} Validation Accuracy: {val_accuracy}\")\n",
    " \n",
    "    # Test\n",
    "test_predictions = clf.predict(X_test_tfidf)\n",
    "test_accuracy = accuracy_score(y_test, test_predictions)\n",
    "print(f\"{clf_name} Test Accuracy: {test_accuracy}\") \n",
    "    # Confusion Matrix\n",
    "print(f\"{clf_name} Confusion Matrix:\")\n",
    "print(confusion_matrix(y_test, test_predictions))\n",
    " \n",
    "    # Precision and Recall\n",
    "precision = precision_score(y_test, test_predictions, average='binary')\n",
    "recall = recall_score(y_test, test_predictions, average='binary')\n",
    "print(f\"{clf_name} Precision: {precision}\")\n",
    "print(f\"{clf_name} Recall: {recall}\")\n",
    "print(\"\\n\")"
   ]
  },
  {
   "cell_type": "code",
   "execution_count": null,
   "metadata": {},
   "outputs": [],
   "source": []
  }
 ],
 "metadata": {
  "kernelspec": {
   "display_name": "Python 3",
   "language": "python",
   "name": "python3"
  },
  "language_info": {
   "codemirror_mode": {
    "name": "ipython",
    "version": 3
   },
   "file_extension": ".py",
   "mimetype": "text/x-python",
   "name": "python",
   "nbconvert_exporter": "python",
   "pygments_lexer": "ipython3",
   "version": "3.11.3"
  }
 },
 "nbformat": 4,
 "nbformat_minor": 2
}
